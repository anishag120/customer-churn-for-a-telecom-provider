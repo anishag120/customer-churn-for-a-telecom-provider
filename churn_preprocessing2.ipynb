{
 "cells": [
  {
   "cell_type": "code",
   "execution_count": 1,
   "metadata": {},
   "outputs": [],
   "source": [
    "import pandas as pd\n",
    "import numpy as np\n",
    "import matplotlib.pyplot as plt\n",
    "import seaborn as sns"
   ]
  },
  {
   "cell_type": "code",
   "execution_count": 2,
   "metadata": {},
   "outputs": [],
   "source": [
    "churn =pd.read_csv('churn_prediction.csv')"
   ]
  },
  {
   "cell_type": "code",
   "execution_count": 3,
   "metadata": {},
   "outputs": [
    {
     "name": "stdout",
     "output_type": "stream",
     "text": [
      "0\n"
     ]
    }
   ],
   "source": [
    "print (churn.isnull().sum().sum())"
   ]
  },
  {
   "cell_type": "code",
   "execution_count": 4,
   "metadata": {},
   "outputs": [],
   "source": [
    "corr = churn.corr()"
   ]
  },
  {
   "cell_type": "code",
   "execution_count": null,
   "metadata": {},
   "outputs": [],
   "source": [
    "#sns.heatmap(corr, annot=True)\n",
    "#plt.show()"
   ]
  },
  {
   "cell_type": "code",
   "execution_count": 5,
   "metadata": {},
   "outputs": [
    {
     "data": {
      "text/html": [
       "<div>\n",
       "<style scoped>\n",
       "    .dataframe tbody tr th:only-of-type {\n",
       "        vertical-align: middle;\n",
       "    }\n",
       "\n",
       "    .dataframe tbody tr th {\n",
       "        vertical-align: top;\n",
       "    }\n",
       "\n",
       "    .dataframe thead th {\n",
       "        text-align: right;\n",
       "    }\n",
       "</style>\n",
       "<table border=\"1\" class=\"dataframe\">\n",
       "  <thead>\n",
       "    <tr style=\"text-align: right;\">\n",
       "      <th></th>\n",
       "      <th>Unnamed: 0</th>\n",
       "      <th>canc_flag</th>\n",
       "      <th>gender</th>\n",
       "      <th>year_of_birth</th>\n",
       "      <th>federal_state</th>\n",
       "      <th>region_type (Locality)</th>\n",
       "      <th>qu_avg_liv_area</th>\n",
       "      <th>serv_revenue_avg</th>\n",
       "      <th>revenue_avg</th>\n",
       "      <th>discount_avg</th>\n",
       "      <th>...</th>\n",
       "      <th>data_vol_roaming_avg</th>\n",
       "      <th>voice_min_international_std</th>\n",
       "      <th>voice_min_onnet_std</th>\n",
       "      <th>voice_min_offnet_std</th>\n",
       "      <th>voice_min_roaming_std</th>\n",
       "      <th>data_vol_total_std</th>\n",
       "      <th>data_vol_roaming_std</th>\n",
       "      <th>tot_nbr_calls</th>\n",
       "      <th>nbr_dropped_calls</th>\n",
       "      <th>avg_days_of_usage_avg</th>\n",
       "    </tr>\n",
       "  </thead>\n",
       "  <tbody>\n",
       "    <tr>\n",
       "      <th>count</th>\n",
       "      <td>1000.000000</td>\n",
       "      <td>1000.000000</td>\n",
       "      <td>1000.000000</td>\n",
       "      <td>1000.000000</td>\n",
       "      <td>1000.00000</td>\n",
       "      <td>1000.000000</td>\n",
       "      <td>1000.000000</td>\n",
       "      <td>1000.000000</td>\n",
       "      <td>1000.000000</td>\n",
       "      <td>1000.000000</td>\n",
       "      <td>...</td>\n",
       "      <td>1000.000000</td>\n",
       "      <td>1000.000000</td>\n",
       "      <td>1000.000000</td>\n",
       "      <td>1000.000000</td>\n",
       "      <td>1000.000000</td>\n",
       "      <td>1000.000000</td>\n",
       "      <td>1000.000000</td>\n",
       "      <td>1000.000000</td>\n",
       "      <td>1000.000000</td>\n",
       "      <td>1000.000000</td>\n",
       "    </tr>\n",
       "    <tr>\n",
       "      <th>mean</th>\n",
       "      <td>499.500000</td>\n",
       "      <td>0.115000</td>\n",
       "      <td>0.470000</td>\n",
       "      <td>1972.500000</td>\n",
       "      <td>6.81600</td>\n",
       "      <td>2.588000</td>\n",
       "      <td>3.038862</td>\n",
       "      <td>32.202158</td>\n",
       "      <td>42.514279</td>\n",
       "      <td>-8.173445</td>\n",
       "      <td>...</td>\n",
       "      <td>0.031036</td>\n",
       "      <td>0.814115</td>\n",
       "      <td>35.729494</td>\n",
       "      <td>35.588138</td>\n",
       "      <td>3.622037</td>\n",
       "      <td>0.445337</td>\n",
       "      <td>0.023772</td>\n",
       "      <td>48.796000</td>\n",
       "      <td>0.132000</td>\n",
       "      <td>8.694480</td>\n",
       "    </tr>\n",
       "    <tr>\n",
       "      <th>std</th>\n",
       "      <td>288.819436</td>\n",
       "      <td>0.319182</td>\n",
       "      <td>0.499349</td>\n",
       "      <td>15.034961</td>\n",
       "      <td>3.93823</td>\n",
       "      <td>1.482043</td>\n",
       "      <td>0.576301</td>\n",
       "      <td>24.975204</td>\n",
       "      <td>27.298214</td>\n",
       "      <td>9.380766</td>\n",
       "      <td>...</td>\n",
       "      <td>0.588432</td>\n",
       "      <td>5.321835</td>\n",
       "      <td>133.368216</td>\n",
       "      <td>101.219919</td>\n",
       "      <td>39.752078</td>\n",
       "      <td>1.111550</td>\n",
       "      <td>0.238781</td>\n",
       "      <td>67.279037</td>\n",
       "      <td>0.533724</td>\n",
       "      <td>3.547969</td>\n",
       "    </tr>\n",
       "    <tr>\n",
       "      <th>min</th>\n",
       "      <td>0.000000</td>\n",
       "      <td>0.000000</td>\n",
       "      <td>0.000000</td>\n",
       "      <td>1928.000000</td>\n",
       "      <td>1.00000</td>\n",
       "      <td>-1.000000</td>\n",
       "      <td>1.043500</td>\n",
       "      <td>-52.991900</td>\n",
       "      <td>0.000000</td>\n",
       "      <td>-67.899700</td>\n",
       "      <td>...</td>\n",
       "      <td>0.000000</td>\n",
       "      <td>0.000000</td>\n",
       "      <td>0.000000</td>\n",
       "      <td>0.000000</td>\n",
       "      <td>0.000000</td>\n",
       "      <td>0.000000</td>\n",
       "      <td>0.000000</td>\n",
       "      <td>1.000000</td>\n",
       "      <td>0.000000</td>\n",
       "      <td>0.000000</td>\n",
       "    </tr>\n",
       "    <tr>\n",
       "      <th>25%</th>\n",
       "      <td>249.750000</td>\n",
       "      <td>0.000000</td>\n",
       "      <td>0.000000</td>\n",
       "      <td>1962.000000</td>\n",
       "      <td>4.00000</td>\n",
       "      <td>2.000000</td>\n",
       "      <td>2.716625</td>\n",
       "      <td>17.761725</td>\n",
       "      <td>25.686050</td>\n",
       "      <td>-12.730325</td>\n",
       "      <td>...</td>\n",
       "      <td>0.000000</td>\n",
       "      <td>0.000000</td>\n",
       "      <td>3.034650</td>\n",
       "      <td>2.647000</td>\n",
       "      <td>0.000000</td>\n",
       "      <td>0.031250</td>\n",
       "      <td>0.000000</td>\n",
       "      <td>11.000000</td>\n",
       "      <td>0.000000</td>\n",
       "      <td>6.003450</td>\n",
       "    </tr>\n",
       "    <tr>\n",
       "      <th>50%</th>\n",
       "      <td>499.500000</td>\n",
       "      <td>0.000000</td>\n",
       "      <td>0.000000</td>\n",
       "      <td>1973.000000</td>\n",
       "      <td>6.00000</td>\n",
       "      <td>3.000000</td>\n",
       "      <td>3.008750</td>\n",
       "      <td>29.813800</td>\n",
       "      <td>42.064350</td>\n",
       "      <td>-4.411650</td>\n",
       "      <td>...</td>\n",
       "      <td>0.000000</td>\n",
       "      <td>0.000000</td>\n",
       "      <td>11.231200</td>\n",
       "      <td>10.257250</td>\n",
       "      <td>0.000000</td>\n",
       "      <td>0.171350</td>\n",
       "      <td>0.000000</td>\n",
       "      <td>26.000000</td>\n",
       "      <td>0.000000</td>\n",
       "      <td>8.601650</td>\n",
       "    </tr>\n",
       "    <tr>\n",
       "      <th>75%</th>\n",
       "      <td>749.250000</td>\n",
       "      <td>0.000000</td>\n",
       "      <td>1.000000</td>\n",
       "      <td>1986.000000</td>\n",
       "      <td>9.00000</td>\n",
       "      <td>4.000000</td>\n",
       "      <td>3.377275</td>\n",
       "      <td>41.643275</td>\n",
       "      <td>54.336875</td>\n",
       "      <td>-0.105900</td>\n",
       "      <td>...</td>\n",
       "      <td>0.000000</td>\n",
       "      <td>0.000000</td>\n",
       "      <td>29.687100</td>\n",
       "      <td>32.465350</td>\n",
       "      <td>0.059500</td>\n",
       "      <td>0.496700</td>\n",
       "      <td>0.000000</td>\n",
       "      <td>62.000000</td>\n",
       "      <td>0.000000</td>\n",
       "      <td>10.927300</td>\n",
       "    </tr>\n",
       "    <tr>\n",
       "      <th>max</th>\n",
       "      <td>999.000000</td>\n",
       "      <td>1.000000</td>\n",
       "      <td>1.000000</td>\n",
       "      <td>1997.000000</td>\n",
       "      <td>17.00000</td>\n",
       "      <td>4.000000</td>\n",
       "      <td>5.000000</td>\n",
       "      <td>319.414800</td>\n",
       "      <td>329.404800</td>\n",
       "      <td>0.535800</td>\n",
       "      <td>...</td>\n",
       "      <td>18.444900</td>\n",
       "      <td>131.988300</td>\n",
       "      <td>2641.032300</td>\n",
       "      <td>2287.251800</td>\n",
       "      <td>943.159000</td>\n",
       "      <td>24.114200</td>\n",
       "      <td>7.073300</td>\n",
       "      <td>751.000000</td>\n",
       "      <td>7.000000</td>\n",
       "      <td>19.644400</td>\n",
       "    </tr>\n",
       "  </tbody>\n",
       "</table>\n",
       "<p>8 rows × 40 columns</p>\n",
       "</div>"
      ],
      "text/plain": [
       "        Unnamed: 0    canc_flag       gender  year_of_birth  federal_state  \\\n",
       "count  1000.000000  1000.000000  1000.000000    1000.000000     1000.00000   \n",
       "mean    499.500000     0.115000     0.470000    1972.500000        6.81600   \n",
       "std     288.819436     0.319182     0.499349      15.034961        3.93823   \n",
       "min       0.000000     0.000000     0.000000    1928.000000        1.00000   \n",
       "25%     249.750000     0.000000     0.000000    1962.000000        4.00000   \n",
       "50%     499.500000     0.000000     0.000000    1973.000000        6.00000   \n",
       "75%     749.250000     0.000000     1.000000    1986.000000        9.00000   \n",
       "max     999.000000     1.000000     1.000000    1997.000000       17.00000   \n",
       "\n",
       "       region_type (Locality)  qu_avg_liv_area  serv_revenue_avg  revenue_avg  \\\n",
       "count             1000.000000      1000.000000       1000.000000  1000.000000   \n",
       "mean                 2.588000         3.038862         32.202158    42.514279   \n",
       "std                  1.482043         0.576301         24.975204    27.298214   \n",
       "min                 -1.000000         1.043500        -52.991900     0.000000   \n",
       "25%                  2.000000         2.716625         17.761725    25.686050   \n",
       "50%                  3.000000         3.008750         29.813800    42.064350   \n",
       "75%                  4.000000         3.377275         41.643275    54.336875   \n",
       "max                  4.000000         5.000000        319.414800   329.404800   \n",
       "\n",
       "       discount_avg  ...  data_vol_roaming_avg  voice_min_international_std  \\\n",
       "count   1000.000000  ...           1000.000000                  1000.000000   \n",
       "mean      -8.173445  ...              0.031036                     0.814115   \n",
       "std        9.380766  ...              0.588432                     5.321835   \n",
       "min      -67.899700  ...              0.000000                     0.000000   \n",
       "25%      -12.730325  ...              0.000000                     0.000000   \n",
       "50%       -4.411650  ...              0.000000                     0.000000   \n",
       "75%       -0.105900  ...              0.000000                     0.000000   \n",
       "max        0.535800  ...             18.444900                   131.988300   \n",
       "\n",
       "       voice_min_onnet_std  voice_min_offnet_std  voice_min_roaming_std  \\\n",
       "count          1000.000000           1000.000000            1000.000000   \n",
       "mean             35.729494             35.588138               3.622037   \n",
       "std             133.368216            101.219919              39.752078   \n",
       "min               0.000000              0.000000               0.000000   \n",
       "25%               3.034650              2.647000               0.000000   \n",
       "50%              11.231200             10.257250               0.000000   \n",
       "75%              29.687100             32.465350               0.059500   \n",
       "max            2641.032300           2287.251800             943.159000   \n",
       "\n",
       "       data_vol_total_std  data_vol_roaming_std  tot_nbr_calls  \\\n",
       "count         1000.000000           1000.000000    1000.000000   \n",
       "mean             0.445337              0.023772      48.796000   \n",
       "std              1.111550              0.238781      67.279037   \n",
       "min              0.000000              0.000000       1.000000   \n",
       "25%              0.031250              0.000000      11.000000   \n",
       "50%              0.171350              0.000000      26.000000   \n",
       "75%              0.496700              0.000000      62.000000   \n",
       "max             24.114200              7.073300     751.000000   \n",
       "\n",
       "       nbr_dropped_calls  avg_days_of_usage_avg  \n",
       "count        1000.000000            1000.000000  \n",
       "mean            0.132000               8.694480  \n",
       "std             0.533724               3.547969  \n",
       "min             0.000000               0.000000  \n",
       "25%             0.000000               6.003450  \n",
       "50%             0.000000               8.601650  \n",
       "75%             0.000000              10.927300  \n",
       "max             7.000000              19.644400  \n",
       "\n",
       "[8 rows x 40 columns]"
      ]
     },
     "execution_count": 5,
     "metadata": {},
     "output_type": "execute_result"
    }
   ],
   "source": [
    "churn.describe()"
   ]
  },
  {
   "cell_type": "code",
   "execution_count": 6,
   "metadata": {},
   "outputs": [
    {
     "data": {
      "text/plain": [
       "<matplotlib.axes._subplots.AxesSubplot at 0x1ff466074a8>"
      ]
     },
     "execution_count": 6,
     "metadata": {},
     "output_type": "execute_result"
    },
    {
     "data": {
      "image/png": "[encoded data removed]",
      "text/plain": [
       "<Figure size 432x288 with 1 Axes>"
      ]
     },
     "metadata": {
      "needs_background": "light"
     },
     "output_type": "display_data"
    }
   ],
   "source": [
    "churn.boxplot(column=['qu_avg_liv_area'])"
   ]
  },
  {
   "cell_type": "code",
   "execution_count": 8,
   "metadata": {},
   "outputs": [
    {
     "name": "stdout",
     "output_type": "stream",
     "text": [
      "3.00875\n",
      "3.9390399999999994\n"
     ]
    },
    {
     "data": {
      "text/plain": [
       "<matplotlib.axes._subplots.AxesSubplot at 0x16d63724668>"
      ]
     },
     "execution_count": 8,
     "metadata": {},
     "output_type": "execute_result"
    },
    {
     "data": {
      "image/png": "[encoded data removed]",
      "text/plain": [
       "<Figure size 432x288 with 1 Axes>"
      ]
     },
     "metadata": {
      "needs_background": "light"
     },
     "output_type": "display_data"
    }
   ],
   "source": [
    "print(churn['qu_avg_liv_area'].quantile(0.50)) \n",
    "print(churn['qu_avg_liv_area'].quantile(0.95)) \n",
    "churn['qu_avg_liv_area'] = np.where(churn['qu_avg_liv_area'] >4, 3, churn['qu_avg_liv_area'])\n",
    "churn.boxplot(column=['qu_avg_liv_area'])"
   ]
  },
  {
   "cell_type": "code",
   "execution_count": 10,
   "metadata": {},
   "outputs": [
    {
     "name": "stdout",
     "output_type": "stream",
     "text": [
      "29.806649999999998\n",
      "55.461375\n"
     ]
    },
    {
     "data": {
      "text/plain": [
       "<matplotlib.axes._subplots.AxesSubplot at 0x16d63804b70>"
      ]
     },
     "execution_count": 10,
     "metadata": {},
     "output_type": "execute_result"
    },
    {
     "data": {
      "image/png": "[encoded data removed]",
      "text/plain": [
       "<Figure size 432x288 with 1 Axes>"
      ]
     },
     "metadata": {
      "needs_background": "light"
     },
     "output_type": "display_data"
    }
   ],
   "source": [
    "print(churn['serv_revenue_avg'].quantile(0.50)) \n",
    "print(churn['serv_revenue_avg'].quantile(0.95)) \n",
    "churn['serv_revenue_avg'] = np.where(churn['serv_revenue_avg']<-10, 29.813800, churn['serv_revenue_avg'])\n",
    "churn.boxplot(column=['serv_revenue_avg'])"
   ]
  },
  {
   "cell_type": "code",
   "execution_count": 11,
   "metadata": {},
   "outputs": [
    {
     "name": "stdout",
     "output_type": "stream",
     "text": [
      "42.064350000000005\n",
      "80.02257999999999\n"
     ]
    },
    {
     "data": {
      "text/plain": [
       "<matplotlib.axes._subplots.AxesSubplot at 0x16d6386af60>"
      ]
     },
     "execution_count": 11,
     "metadata": {},
     "output_type": "execute_result"
    },
    {
     "data": {
      "image/png": "[encoded data removed]",
      "text/plain": [
       "<Figure size 432x288 with 1 Axes>"
      ]
     },
     "metadata": {
      "needs_background": "light"
     },
     "output_type": "display_data"
    }
   ],
   "source": [
    "print(churn['revenue_avg'].quantile(0.50)) \n",
    "print(churn['revenue_avg'].quantile(0.95)) \n",
    "churn['revenue_avg'] = np.where(churn['revenue_avg'] >90, 42.064350, churn['revenue_avg'])\n",
    "churn.boxplot(column=['revenue_avg'])"
   ]
  },
  {
   "cell_type": "code",
   "execution_count": 12,
   "metadata": {},
   "outputs": [
    {
     "name": "stdout",
     "output_type": "stream",
     "text": [
      "-4.41165\n",
      "0.0\n"
     ]
    },
    {
     "data": {
      "text/plain": [
       "<matplotlib.axes._subplots.AxesSubplot at 0x16d638d27b8>"
      ]
     },
     "execution_count": 12,
     "metadata": {},
     "output_type": "execute_result"
    },
    {
     "data": {
      "image/png": "[encoded data removed]",
      "text/plain": [
       "<Figure size 432x288 with 1 Axes>"
      ]
     },
     "metadata": {
      "needs_background": "light"
     },
     "output_type": "display_data"
    }
   ],
   "source": [
    "print(churn['discount_avg'].quantile(0.50)) \n",
    "print(churn['discount_avg'].quantile(0.95)) \n",
    "churn['discount_avg'] = np.where(churn['discount_avg'] <-30, -4.411650, churn['discount_avg'])\n",
    "churn.boxplot(column=['discount_avg'])"
   ]
  },
  {
   "cell_type": "code",
   "execution_count": 13,
   "metadata": {},
   "outputs": [
    {
     "name": "stdout",
     "output_type": "stream",
     "text": [
      "1.5345\n"
     ]
    },
    {
     "data": {
      "text/plain": [
       "<matplotlib.axes._subplots.AxesSubplot at 0x16d63937eb8>"
      ]
     },
     "execution_count": 13,
     "metadata": {},
     "output_type": "execute_result"
    },
    {
     "data": {
      "image/png": "[encoded data removed]",
      "text/plain": [
       "<Figure size 432x288 with 1 Axes>"
      ]
     },
     "metadata": {
      "needs_background": "light"
     },
     "output_type": "display_data"
    }
   ],
   "source": [
    "print(churn['serv_revenue_std'].quantile(0.50)) \n",
    "churn['serv_revenue_std'] = np.where(churn['serv_revenue_std'] >3, 1.5345, churn['serv_revenue_std'])\n",
    "churn.boxplot(column=['serv_revenue_std'])"
   ]
  },
  {
   "cell_type": "code",
   "execution_count": 14,
   "metadata": {},
   "outputs": [
    {
     "name": "stdout",
     "output_type": "stream",
     "text": [
      "1.3259\n"
     ]
    },
    {
     "data": {
      "text/plain": [
       "<matplotlib.axes._subplots.AxesSubplot at 0x16d639a7ba8>"
      ]
     },
     "execution_count": 14,
     "metadata": {},
     "output_type": "execute_result"
    },
    {
     "data": {
      "image/png": "[encoded data removed]",
      "text/plain": [
       "<Figure size 432x288 with 1 Axes>"
      ]
     },
     "metadata": {
      "needs_background": "light"
     },
     "output_type": "display_data"
    }
   ],
   "source": [
    "print(churn['revenue_std'].quantile(0.50)) \n",
    "churn['revenue_std'] = np.where(churn['revenue_std'] >2.5, 1.3259, churn['revenue_std'])\n",
    "churn.boxplot(column=['revenue_std'])"
   ]
  },
  {
   "cell_type": "code",
   "execution_count": 15,
   "metadata": {},
   "outputs": [
    {
     "name": "stdout",
     "output_type": "stream",
     "text": [
      "0.0923\n"
     ]
    },
    {
     "data": {
      "text/plain": [
       "<matplotlib.axes._subplots.AxesSubplot at 0x16d639d87b8>"
      ]
     },
     "execution_count": 15,
     "metadata": {},
     "output_type": "execute_result"
    },
    {
     "data": {
      "image/png": "[encoded data removed]",
      "text/plain": [
       "<Figure size 432x288 with 1 Axes>"
      ]
     },
     "metadata": {
      "needs_background": "light"
     },
     "output_type": "display_data"
    }
   ],
   "source": [
    "print(churn['discount_std'].quantile(0.50)) \n",
    "churn['discount_std'] = np.where(churn['discount_std'] >0.2, 0.0923, churn['discount_std'])\n",
    "churn.boxplot(column=['discount_std'])"
   ]
  },
  {
   "cell_type": "code",
   "execution_count": 16,
   "metadata": {},
   "outputs": [
    {
     "name": "stdout",
     "output_type": "stream",
     "text": [
      "15.0\n"
     ]
    },
    {
     "data": {
      "text/plain": [
       "<matplotlib.axes._subplots.AxesSubplot at 0x16d63a76b38>"
      ]
     },
     "execution_count": 16,
     "metadata": {},
     "output_type": "execute_result"
    },
    {
     "data": {
      "image/png": "[encoded data removed]",
      "text/plain": [
       "<Figure size 432x288 with 1 Axes>"
      ]
     },
     "metadata": {
      "needs_background": "light"
     },
     "output_type": "display_data"
    }
   ],
   "source": [
    "print(churn['mon_since_con_start'].quantile(0.50)) \n",
    "churn['mon_since_con_start'] = np.where(churn['mon_since_con_start'] >30, 15, churn['mon_since_con_start'])\n",
    "churn.boxplot(column=['mon_since_con_start'])"
   ]
  },
  {
   "cell_type": "code",
   "execution_count": 17,
   "metadata": {},
   "outputs": [
    {
     "name": "stdout",
     "output_type": "stream",
     "text": [
      "16.0\n"
     ]
    },
    {
     "data": {
      "text/plain": [
       "<matplotlib.axes._subplots.AxesSubplot at 0x16d63ada5f8>"
      ]
     },
     "execution_count": 17,
     "metadata": {},
     "output_type": "execute_result"
    },
    {
     "data": {
      "image/png": "[encoded data removed]",
      "text/plain": [
       "<Figure size 432x288 with 1 Axes>"
      ]
     },
     "metadata": {
      "needs_background": "light"
     },
     "output_type": "display_data"
    }
   ],
   "source": [
    "print(churn['mon_since_last_subsi'].quantile(0.50)) \n",
    "churn['mon_since_last_subsi'] = np.where(churn['mon_since_last_subsi'] >30, 16, churn['mon_since_last_subsi'])\n",
    "churn.boxplot(column=['mon_since_last_subsi'])"
   ]
  },
  {
   "cell_type": "code",
   "execution_count": 18,
   "metadata": {},
   "outputs": [
    {
     "name": "stdout",
     "output_type": "stream",
     "text": [
      "6.0\n"
     ]
    },
    {
     "data": {
      "text/plain": [
       "<matplotlib.axes._subplots.AxesSubplot at 0x16d63b3d080>"
      ]
     },
     "execution_count": 18,
     "metadata": {},
     "output_type": "execute_result"
    },
    {
     "data": {
      "image/png": "[encoded data removed]",
      "text/plain": [
       "<Figure size 432x288 with 1 Axes>"
      ]
     },
     "metadata": {
      "needs_background": "light"
     },
     "output_type": "display_data"
    }
   ],
   "source": [
    "print(churn['mon_til_next_subsi'].quantile(0.50)) \n",
    "churn['mon_til_next_subsi'] = np.where(churn['mon_til_next_subsi'] <-10, 6, churn['mon_til_next_subsi'])\n",
    "churn.boxplot(column=['mon_til_next_subsi'])"
   ]
  },
  {
   "cell_type": "code",
   "execution_count": 19,
   "metadata": {},
   "outputs": [
    {
     "name": "stdout",
     "output_type": "stream",
     "text": [
      "9.562850000000001\n"
     ]
    },
    {
     "data": {
      "text/plain": [
       "<matplotlib.axes._subplots.AxesSubplot at 0x16d63b3dda0>"
      ]
     },
     "execution_count": 19,
     "metadata": {},
     "output_type": "execute_result"
    },
    {
     "data": {
      "image/png": "[encoded data removed]",
      "text/plain": [
       "<Figure size 432x288 with 1 Axes>"
      ]
     },
     "metadata": {
      "needs_background": "light"
     },
     "output_type": "display_data"
    }
   ],
   "source": [
    "print(churn['voice_min_wireline_avg'].quantile(0.50)) \n",
    "churn['voice_min_wireline_avg'] = np.where(churn['voice_min_wireline_avg'] >20, 9.562850, churn['voice_min_wireline_avg'])\n",
    "churn.boxplot(column=['voice_min_wireline_avg'])"
   ]
  },
  {
   "cell_type": "code",
   "execution_count": 20,
   "metadata": {},
   "outputs": [
    {
     "name": "stdout",
     "output_type": "stream",
     "text": [
      "15.78285\n"
     ]
    },
    {
     "data": {
      "text/plain": [
       "<matplotlib.axes._subplots.AxesSubplot at 0x16d63c1a710>"
      ]
     },
     "execution_count": 20,
     "metadata": {},
     "output_type": "execute_result"
    },
    {
     "data": {
      "image/png": "[encoded data removed]",
      "text/plain": [
       "<Figure size 432x288 with 1 Axes>"
      ]
     },
     "metadata": {
      "needs_background": "light"
     },
     "output_type": "display_data"
    }
   ],
   "source": [
    "print(churn['voice_min_onnet_avg'].quantile(0.50)) \n",
    "churn['voice_min_onnet_avg'] = np.where(churn['voice_min_onnet_avg'] >30, 15.78285, churn['voice_min_onnet_avg'])\n",
    "churn.boxplot(column=['voice_min_onnet_avg'])"
   ]
  },
  {
   "cell_type": "code",
   "execution_count": 21,
   "metadata": {},
   "outputs": [
    {
     "name": "stdout",
     "output_type": "stream",
     "text": [
      "12.2814\n"
     ]
    },
    {
     "data": {
      "text/plain": [
       "<matplotlib.axes._subplots.AxesSubplot at 0x16d63c80da0>"
      ]
     },
     "execution_count": 21,
     "metadata": {},
     "output_type": "execute_result"
    },
    {
     "data": {
      "image/png": "[encoded data removed]",
      "text/plain": [
       "<Figure size 432x288 with 1 Axes>"
      ]
     },
     "metadata": {
      "needs_background": "light"
     },
     "output_type": "display_data"
    }
   ],
   "source": [
    "print(churn['voice_min_offnet_avg'].quantile(0.50)) \n",
    "churn['voice_min_offnet_avg'] = np.where(churn['voice_min_offnet_avg'] >25, 12.2814, churn['voice_min_offnet_avg'])\n",
    "churn.boxplot(column=['voice_min_offnet_avg'])"
   ]
  },
  {
   "cell_type": "code",
   "execution_count": 12,
   "metadata": {},
   "outputs": [
    {
     "data": {
      "text/plain": [
       "<matplotlib.axes._subplots.AxesSubplot at 0x1ff468825f8>"
      ]
     },
     "execution_count": 12,
     "metadata": {},
     "output_type": "execute_result"
    },
    {
     "data": {
      "image/png": "[encoded data removed]",
      "text/plain": [
       "<Figure size 432x288 with 1 Axes>"
      ]
     },
     "metadata": {
      "needs_background": "light"
     },
     "output_type": "display_data"
    }
   ],
   "source": [
    "#print(churn['data_vol_total_avg'].quantile(0.50)) \n",
    "#churn['data_vol_total_avg'] = np.where(churn['data_vol_total_avg'] >0.5, 0.41025, churn['data_vol_total_avg'])\n",
    "churn.boxplot(column=['data_vol_total_avg'])"
   ]
  },
  {
   "cell_type": "code",
   "execution_count": 11,
   "metadata": {},
   "outputs": [
    {
     "data": {
      "text/plain": [
       "<matplotlib.axes._subplots.AxesSubplot at 0x1ff4681da90>"
      ]
     },
     "execution_count": 11,
     "metadata": {},
     "output_type": "execute_result"
    },
    {
     "data": {
      "image/png": "[encoded data removed]",
      "text/plain": [
       "<Figure size 432x288 with 1 Axes>"
      ]
     },
     "metadata": {
      "needs_background": "light"
     },
     "output_type": "display_data"
    }
   ],
   "source": [
    "#print(churn['voice_min_onnet_std'].quantile(0.50)) \n",
    "#churn['voice_min_onnet_std'] = np.where(churn['voice_min_onnet_std'] >20, 11.23120, churn['voice_min_onnet_std'])\n",
    "churn.boxplot(column=['voice_min_onnet_std'])"
   ]
  },
  {
   "cell_type": "code",
   "execution_count": 10,
   "metadata": {},
   "outputs": [
    {
     "data": {
      "text/plain": [
       "<matplotlib.axes._subplots.AxesSubplot at 0x1ff467bfc50>"
      ]
     },
     "execution_count": 10,
     "metadata": {},
     "output_type": "execute_result"
    },
    {
     "data": {
      "image/png": "[encoded data removed]",
      "text/plain": [
       "<Figure size 432x288 with 1 Axes>"
      ]
     },
     "metadata": {
      "needs_background": "light"
     },
     "output_type": "display_data"
    }
   ],
   "source": [
    "print(churn['voice_min_offnet_std'].quantile(0.50)) \n",
    "churn['voice_min_offnet_std'] = np.where(churn['voice_min_offnet_std'] >20, 10.257249, churn['voice_min_offnet_std'])\n",
    "churn.boxplot(column=['voice_min_offnet_std'])"
   ]
  },
  {
   "cell_type": "code",
   "execution_count": 9,
   "metadata": {},
   "outputs": [
    {
     "data": {
      "text/plain": [
       "<matplotlib.axes._subplots.AxesSubplot at 0x1ff46751be0>"
      ]
     },
     "execution_count": 9,
     "metadata": {},
     "output_type": "execute_result"
    },
    {
     "data": {
      "image/png": "[encoded data removed]",
      "text/plain": [
       "<Figure size 432x288 with 1 Axes>"
      ]
     },
     "metadata": {
      "needs_background": "light"
     },
     "output_type": "display_data"
    }
   ],
   "source": [
    "print(churn['data_vol_total_std'].quantile(0.50)) \n",
    "churn['data_vol_total_std'] = np.where(churn['data_vol_total_std'] >0.3, 0.17135, churn['data_vol_total_std'])\n",
    "churn.boxplot(column=['data_vol_total_std'])"
   ]
  },
  {
   "cell_type": "code",
   "execution_count": 8,
   "metadata": {},
   "outputs": [
    {
     "data": {
      "text/plain": [
       "<matplotlib.axes._subplots.AxesSubplot at 0x1ff466d69e8>"
      ]
     },
     "execution_count": 8,
     "metadata": {},
     "output_type": "execute_result"
    },
    {
     "data": {
      "image/png": "[encoded data removed]",
      "text/plain": [
       "<Figure size 432x288 with 1 Axes>"
      ]
     },
     "metadata": {
      "needs_background": "light"
     },
     "output_type": "display_data"
    }
   ],
   "source": [
    "print(churn['tot_nbr_calls'].quantile(0.50)) \n",
    "churn['tot_nbr_calls'] = np.where(churn['tot_nbr_calls'] >45, 26, churn['tot_nbr_calls'])\n",
    "churn.boxplot(column=['tot_nbr_calls'])"
   ]
  },
  {
   "cell_type": "code",
   "execution_count": 7,
   "metadata": {},
   "outputs": [
    {
     "data": {
      "text/plain": [
       "<matplotlib.axes._subplots.AxesSubplot at 0x1ff46677fd0>"
      ]
     },
     "execution_count": 7,
     "metadata": {},
     "output_type": "execute_result"
    },
    {
     "data": {
      "image/png": "[encoded data removed]",
      "text/plain": [
       "<Figure size 432x288 with 1 Axes>"
      ]
     },
     "metadata": {
      "needs_background": "light"
     },
     "output_type": "display_data"
    }
   ],
   "source": [
    "print(churn['avg_days_of_usage_avg'].quantile(0.50)) \n",
    "churn['avg_days_of_usage_avg'] = np.where(churn['avg_days_of_usage_avg'] >17.5, 8.60165, churn['avg_days_of_usage_avg'])\n",
    "churn.boxplot(column=['avg_days_of_usage_avg'])"
   ]
  },
  {
   "cell_type": "code",
   "execution_count": 28,
   "metadata": {},
   "outputs": [],
   "source": [
    "churn=churn.drop(columns =['year_of_birth','instalment_avg', 'voucher_std','instalment_std','subs_hand_ind','nbr_contract_cycles',\n",
    "                          'voice_min_roaming_avg','nbr_dropped_calls','data_vol_roaming_avg',\n",
    "                           'voice_min_international_std','voice_min_roaming_std','data_vol_roaming_std'], axis = 1) "
   ]
  },
  {
   "cell_type": "code",
   "execution_count": 29,
   "metadata": {},
   "outputs": [],
   "source": [
    "churn2 = pd.DataFrame(churn)"
   ]
  },
  {
   "cell_type": "code",
   "execution_count": 30,
   "metadata": {},
   "outputs": [],
   "source": [
    "churn2.to_csv('churn_data.csv')"
   ]
  },
  {
   "cell_type": "code",
   "execution_count": null,
   "metadata": {},
   "outputs": [],
   "source": []
  }
 ],
 "metadata": {
  "kernelspec": {
   "display_name": "Python 3",
   "language": "python",
   "name": "python3"
  },
  "language_info": {
   "codemirror_mode": {
    "name": "ipython",
    "version": 3
   },
   "file_extension": ".py",
   "mimetype": "text/x-python",
   "name": "python",
   "nbconvert_exporter": "python",
   "pygments_lexer": "ipython3",
   "version": "3.8.5"
  }
 },
 "nbformat": 4,
 "nbformat_minor": 2
}
